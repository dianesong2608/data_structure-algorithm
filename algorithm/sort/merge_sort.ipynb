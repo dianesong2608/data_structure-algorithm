{
 "cells": [
  {
   "cell_type": "code",
   "execution_count": 1,
   "metadata": {},
   "outputs": [],
   "source": [
    "import numpy as np\n",
    "import time"
   ]
  },
  {
   "cell_type": "markdown",
   "metadata": {},
   "source": [
    "### 1. 归并排序 -- 自顶向下"
   ]
  },
  {
   "cell_type": "markdown",
   "metadata": {},
   "source": [
    "思路：\n",
    "    \n",
    "    step1: 二分数组直至每一部分为一个元素，即划分次数logN，向上归并每一level遍历N个元素。（递归）\n",
    "\n",
    "    step2: 向下二分，向上两两比较归并，当左右只剩两部分的时候，需新开O(n)空间，并用三个下标对操作的数标记。\n",
    "\n",
    "时间复杂度：O(NlogN)"
   ]
  },
  {
   "cell_type": "code",
   "execution_count": 2,
   "metadata": {},
   "outputs": [],
   "source": [
    "# step2: 向上归并\n",
    "def _merge(left, right):\n",
    "    \n",
    "    # 分别对应左右分支的下标，初始位置0\n",
    "    l_idx, r_idx = 0, 0\n",
    "    \n",
    "    # 用于存放排好序的数组\n",
    "    result = []\n",
    "    \n",
    "    # 结束循环条件：左，右任一分支遍历结束\n",
    "    while ((l_idx < len(left)) and (r_idx < len(right))):\n",
    "        if (left[l_idx] < right[r_idx]):\n",
    "            # 当左边元素 < 右边元素: result中放入左边元素，且左index+1, 即l_idx += 1\n",
    "            result.append(left[l_idx])\n",
    "            l_idx += 1\n",
    "        else:\n",
    "            # 当左边元素 > 右边元素: result中放入右边元素，且右index+1, 即r_idx += 1\n",
    "            result.append(right[r_idx])\n",
    "            r_idx += 1\n",
    "    \n",
    "    result.extend(left[l_idx:])\n",
    "    result.extend(right[r_idx:])\n",
    "    \n",
    "    return result"
   ]
  },
  {
   "cell_type": "code",
   "execution_count": 3,
   "metadata": {},
   "outputs": [],
   "source": [
    "# step1: 向下二分\n",
    "def _merge_sort(nums):\n",
    "    n = len(nums)\n",
    "    \n",
    "    # 递归终止条件：nums中的元素个数 <= 1\n",
    "    while n <= 1:\n",
    "        return nums\n",
    "    \n",
    "    mid_idx = len(nums)//2\n",
    "    \n",
    "    left = _merge_sort(nums[:mid_idx])\n",
    "    right = _merge_sort(nums[mid_idx:])\n",
    "    return _merge(left, right)"
   ]
  },
  {
   "cell_type": "code",
   "execution_count": 4,
   "metadata": {},
   "outputs": [],
   "source": [
    "def merge_sort(nums):\n",
    "    return _merge_sort(nums)"
   ]
  },
  {
   "cell_type": "markdown",
   "metadata": {},
   "source": [
    "### Testing"
   ]
  },
  {
   "cell_type": "code",
   "execution_count": 5,
   "metadata": {},
   "outputs": [],
   "source": [
    "def generate_nums(n=5000):\n",
    "    nums = [np.random.randint(100) for _ in range(n)]\n",
    "    return nums"
   ]
  },
  {
   "cell_type": "code",
   "execution_count": 6,
   "metadata": {},
   "outputs": [],
   "source": [
    "def is_sorted(nums):\n",
    "    for i in range(1, len(nums)):\n",
    "        if (nums[i-1] > nums[i]):\n",
    "            return False\n",
    "    return True"
   ]
  },
  {
   "cell_type": "code",
   "execution_count": 7,
   "metadata": {},
   "outputs": [
    {
     "name": "stdout",
     "output_type": "stream",
     "text": [
      "CPU times: user 76.8 ms, sys: 2.48 ms, total: 79.3 ms\n",
      "Wall time: 81.4 ms\n"
     ]
    }
   ],
   "source": [
    "%%time\n",
    "result = merge_sort(generate_nums())"
   ]
  },
  {
   "cell_type": "code",
   "execution_count": 8,
   "metadata": {},
   "outputs": [
    {
     "data": {
      "text/plain": [
       "True"
      ]
     },
     "execution_count": 8,
     "metadata": {},
     "output_type": "execute_result"
    }
   ],
   "source": [
    "is_sorted(result)"
   ]
  }
 ],
 "metadata": {
  "kernelspec": {
   "display_name": "Python 3",
   "language": "python",
   "name": "python3"
  },
  "language_info": {
   "codemirror_mode": {
    "name": "ipython",
    "version": 3
   },
   "file_extension": ".py",
   "mimetype": "text/x-python",
   "name": "python",
   "nbconvert_exporter": "python",
   "pygments_lexer": "ipython3",
   "version": "3.7.3"
  }
 },
 "nbformat": 4,
 "nbformat_minor": 4
}
