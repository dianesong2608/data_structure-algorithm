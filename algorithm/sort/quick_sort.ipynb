{
 "cells": [
  {
   "cell_type": "code",
   "execution_count": 1,
   "metadata": {},
   "outputs": [],
   "source": [
    "import numpy as np\n",
    "import time"
   ]
  },
  {
   "cell_type": "markdown",
   "metadata": {},
   "source": [
    "### 1. 快速排序 -- 时间复杂度：O(NlogN)"
   ]
  },
  {
   "cell_type": "markdown",
   "metadata": {},
   "source": [
    "#### 方法一：实现简单，但占用额外空间"
   ]
  },
  {
   "cell_type": "markdown",
   "metadata": {},
   "source": [
    "思路：\n",
    "\n",
    "    step1: 从数组中挑选一个元素，作为基准（pivot）\n",
    "    step2: 创建两个数组left，right 分别存放小于和大于pivot的元素\n",
    "    step3: 遍历数组中剩余元素，元素小于pivot -> 添加到left中；反之，添加到right中\n",
    "    step4: left和right中的元素，反复step1~step3，直到要处理的数组长度为1。（递归）"
   ]
  },
  {
   "cell_type": "code",
   "execution_count": 2,
   "metadata": {},
   "outputs": [],
   "source": [
    "def quick_sort1(nums):\n",
    "    \n",
    "    if len(nums) <= 1:\n",
    "        return nums\n",
    "\n",
    "    # 基准元素\n",
    "    pivot = nums[0]\n",
    "    \n",
    "    nums.remove(pivot)\n",
    "    \n",
    "    # 创建存放小于和大于的两个数组\n",
    "    left, right = [], []\n",
    "    \n",
    "    for num in nums:\n",
    "        if num <= pivot:\n",
    "            left.append(num)\n",
    "        else:\n",
    "            right.append(num)\n",
    "    \n",
    "    # 递归\n",
    "    return quick_sort1(left) + [pivot] + quick_sort1(right)"
   ]
  },
  {
   "cell_type": "markdown",
   "metadata": {},
   "source": [
    "#### 方法二：优化，降低空间复杂度"
   ]
  },
  {
   "cell_type": "markdown",
   "metadata": {},
   "source": [
    "改进算法 -- 思路：\n",
    "\n",
    "    step1: 从数组中挑选一个元素，作为基准（pivot），此处选的第一个元素\n",
    "    step2: 创建两个变量idx_l和dix_r\n",
    "            \n",
    "            idx_l 初始值：1，\n",
    "            idx_r 初始值：len(nums)-1，即数组最后一位\n",
    "            \n",
    "    step3: 循环，每一次遍历数组的两种可能行为： 要么 1）idx_l或idx_r移动  要么 2）idx_l与idx_r交换各自对应的元素\n",
    "    \n",
    "           从数组中下标为1的元素开始遍历数组：\n",
    "               元素小于pivot, idx_l += 1；元素大于pivot, idx_r -= 1；\n",
    "               条件1、2都不满足，则idx_l与idx_r交换各自对应的元素\n",
    "           当idx_l >= idx_r，退出循环\n",
    "           \n",
    "    step4: 如果idx_l的元素此时比pivot小，则交换两个位置的元素。\n",
    "    \n",
    "    step5: 以idx_l为界，分为左右（pivot已经在对的位置上了），往复step1~stpe4。（递归）"
   ]
  },
  {
   "cell_type": "code",
   "execution_count": 3,
   "metadata": {},
   "outputs": [],
   "source": [
    "def quick_sort2(nums):\n",
    "    \n",
    "    if len(nums) <= 1:\n",
    "        return nums\n",
    "    \n",
    "    pivot = nums[0]\n",
    "    idx_l = 1\n",
    "    idx_r = len(nums)-1\n",
    "    \n",
    "    while (idx_l < idx_r):\n",
    "        if nums[idx_l] <= pivot:\n",
    "            idx_l += 1\n",
    "        \n",
    "        if nums[idx_r] > pivot:\n",
    "            idx_r -= 1\n",
    "            \n",
    "        if idx_l >= idx_r:\n",
    "            break\n",
    "        \n",
    "        nums[idx_l], nums[idx_r] = nums[idx_r], nums[idx_l]\n",
    "    \n",
    "    if nums[idx_l] < pivot:\n",
    "        nums[idx_l], nums[0] = nums[0], nums[idx_l]\n",
    "    \n",
    "    return quick_sort2(nums[:idx_l]) + quick_sort2(nums[idx_l:])"
   ]
  },
  {
   "cell_type": "markdown",
   "metadata": {},
   "source": [
    "### Testing"
   ]
  },
  {
   "cell_type": "code",
   "execution_count": 4,
   "metadata": {},
   "outputs": [],
   "source": [
    "def generate_nums(n=5000):\n",
    "    nums = [np.random.randint(100) for _ in range(n)]\n",
    "    return nums"
   ]
  },
  {
   "cell_type": "code",
   "execution_count": 5,
   "metadata": {},
   "outputs": [],
   "source": [
    "def is_sorted(nums):\n",
    "    for i in range(1, len(nums)):\n",
    "        if (nums[i-1] > nums[i]):\n",
    "            return False\n",
    "    return True"
   ]
  },
  {
   "cell_type": "code",
   "execution_count": 6,
   "metadata": {},
   "outputs": [],
   "source": [
    "def run_algo(algo_id, nums):\n",
    "    algo_dict = {\n",
    "        1: quick_sort1(nums)\n",
    "        ,2: quick_sort2(nums)\n",
    "    }\n",
    "    \n",
    "    return algo_dict[algo_id]\n",
    "\n",
    "def test_sort(algo_id, nums):\n",
    "    \n",
    "#     print(\"Before:\", nums)\n",
    "    \n",
    "    time0 = time.time()\n",
    "    sorted_nums = run_algo(algo_id, nums)\n",
    "    \n",
    "#     print(\"After:\", sorted_nums)\n",
    "    print(\"Cost:\", time.time()-time0)\n",
    "    print(\"Sorted?\", is_sorted(sorted_nums))"
   ]
  },
  {
   "cell_type": "code",
   "execution_count": 7,
   "metadata": {},
   "outputs": [],
   "source": [
    "test_nums = generate_nums()"
   ]
  },
  {
   "cell_type": "code",
   "execution_count": 8,
   "metadata": {},
   "outputs": [
    {
     "name": "stdout",
     "output_type": "stream",
     "text": [
      "Cost: 0.08711028099060059\n",
      "Sorted? True\n"
     ]
    }
   ],
   "source": [
    "test_sort(1, test_nums.copy())"
   ]
  },
  {
   "cell_type": "code",
   "execution_count": 9,
   "metadata": {
    "scrolled": true
   },
   "outputs": [
    {
     "name": "stdout",
     "output_type": "stream",
     "text": [
      "Cost: 0.08662891387939453\n",
      "Sorted? True\n"
     ]
    }
   ],
   "source": [
    "test_sort(2, test_nums.copy())"
   ]
  }
 ],
 "metadata": {
  "kernelspec": {
   "display_name": "Python 3",
   "language": "python",
   "name": "python3"
  },
  "language_info": {
   "codemirror_mode": {
    "name": "ipython",
    "version": 3
   },
   "file_extension": ".py",
   "mimetype": "text/x-python",
   "name": "python",
   "nbconvert_exporter": "python",
   "pygments_lexer": "ipython3",
   "version": "3.7.3"
  }
 },
 "nbformat": 4,
 "nbformat_minor": 4
}
