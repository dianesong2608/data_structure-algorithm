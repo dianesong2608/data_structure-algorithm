{
 "cells": [
  {
   "cell_type": "code",
   "execution_count": 1,
   "metadata": {},
   "outputs": [],
   "source": [
    "import numpy as np\n",
    "import time"
   ]
  },
  {
   "cell_type": "markdown",
   "metadata": {},
   "source": [
    "### 1. 选择排序"
   ]
  },
  {
   "cell_type": "markdown",
   "metadata": {},
   "source": [
    "思路：\n",
    "\n",
    "    index从0开始，然后在给定数组中选择最小的，和当前index的元素交换，然后index+1，再从剩下的找最小的，和当前元素交换，循环直至结束。\n",
    "    \n",
    "时间复杂度：O(N^2)"
   ]
  },
  {
   "cell_type": "code",
   "execution_count": 2,
   "metadata": {},
   "outputs": [],
   "source": [
    "def selection_sort(nums):\n",
    "    \n",
    "    for i in range(len(nums)-1):\n",
    "        min_val = nums[i]\n",
    "        min_idx = i\n",
    "    \n",
    "        for j in range(i+1, len(nums)):\n",
    "            if (nums[j] < min_val):\n",
    "                min_val = nums[j]\n",
    "                min_idx = j\n",
    "        \n",
    "        nums[i], nums[min_idx] = nums[min_idx], nums[i]\n",
    "    \n",
    "    return nums"
   ]
  },
  {
   "cell_type": "markdown",
   "metadata": {},
   "source": [
    "### 2. 插入排序"
   ]
  },
  {
   "cell_type": "markdown",
   "metadata": {},
   "source": [
    "方法一\n",
    "\n",
    "index初始位置：0，然后index+1的元素依次和前一个相比，找到最合适（小）的位置放入\n",
    "\n",
    "⚠️ index之前的元素都已排好序\n",
    "\n",
    "时间复杂度：O(N^2)"
   ]
  },
  {
   "cell_type": "code",
   "execution_count": 3,
   "metadata": {},
   "outputs": [],
   "source": [
    "def insertion_sort1(nums):\n",
    "\n",
    "    for i in range(1, len(nums)):\n",
    "        # 从当前位置开始，依次和前面已排序的比较\n",
    "        for j in range(i, 0, -1):\n",
    "            if (nums[j] < nums[j-1]):\n",
    "                nums[j-1], nums[j] = nums[j], nums[j-1]\n",
    "            else:\n",
    "                # 可以提前终止此轮比较\n",
    "                break\n",
    "                \n",
    "    return nums"
   ]
  },
  {
   "cell_type": "markdown",
   "metadata": {},
   "source": [
    "方法二\n",
    "\n",
    "交换 -> 赋值：将交换改成赋值，即寻找到元素合适的位置后，直接赋值。\n",
    "\n",
    "时间复杂度：O(N^2)"
   ]
  },
  {
   "cell_type": "code",
   "execution_count": 4,
   "metadata": {},
   "outputs": [],
   "source": [
    "def insertion_sort2(nums):\n",
    "\n",
    "    for i in range(1, len(nums)):\n",
    "        move_val = nums[i]\n",
    "        move_idx = i\n",
    "        \n",
    "        for j in range(i, 0, -1):\n",
    "            if (move_val < nums[j-1]):\n",
    "                nums[j] = nums[j-1]\n",
    "                move_idx = j-1\n",
    "            else:\n",
    "                break\n",
    "            \n",
    "        nums[move_idx] = move_val\n",
    "    return nums"
   ]
  },
  {
   "cell_type": "markdown",
   "metadata": {},
   "source": [
    "### 3. 冒泡排序"
   ]
  },
  {
   "cell_type": "markdown",
   "metadata": {},
   "source": [
    "方法一\n",
    "\n",
    "index初始位置当下，依次与后一个元素比较，大于后一个元素则交换。\n",
    "\n",
    "时间复杂度：O(N^2)"
   ]
  },
  {
   "cell_type": "code",
   "execution_count": 5,
   "metadata": {},
   "outputs": [],
   "source": [
    "def bubble_sort1(nums):\n",
    "    for i in range(len(nums)-1):\n",
    "        for j in range(i, len(nums)-1):\n",
    "            if nums[j] > nums[j+1]:\n",
    "                nums[j], nums[j+1] = nums[j+1], nums[j]\n",
    "            \n",
    "    return nums"
   ]
  },
  {
   "cell_type": "markdown",
   "metadata": {},
   "source": [
    "方法二\n",
    "\n",
    "同插入排序：交换 -> 赋值：将交换改成赋值，即寻找到元素合适的位置后，直接赋值。\n",
    "\n",
    "时间复杂度：O(N^2)"
   ]
  },
  {
   "cell_type": "code",
   "execution_count": 6,
   "metadata": {},
   "outputs": [],
   "source": [
    "def bubble_sort2(nums):\n",
    "    for i in range(len(nums)-1):\n",
    "        move_idx = i\n",
    "        move_val = nums[i]\n",
    "        \n",
    "        for j in range(i, len(nums)-1):\n",
    "            if nums[j] > nums[j+1]:\n",
    "                nums[j] = nums[j+1]\n",
    "                move_idx = j+1\n",
    "        \n",
    "        nums[move_idx] = move_val\n",
    "            \n",
    "    return nums"
   ]
  },
  {
   "cell_type": "markdown",
   "metadata": {},
   "source": [
    "## Testing"
   ]
  },
  {
   "cell_type": "code",
   "execution_count": 7,
   "metadata": {},
   "outputs": [],
   "source": [
    "def generate_nums(n=5000):\n",
    "    nums = [np.random.randint(100) for _ in range(n)]\n",
    "    return nums"
   ]
  },
  {
   "cell_type": "code",
   "execution_count": 8,
   "metadata": {},
   "outputs": [],
   "source": [
    "def is_sorted(nums):\n",
    "    for i in range(1, len(nums)):\n",
    "        if (nums[i-1] > nums[i]):\n",
    "            return False\n",
    "    return True"
   ]
  },
  {
   "cell_type": "code",
   "execution_count": 9,
   "metadata": {},
   "outputs": [],
   "source": [
    "def run_algo(algo_id, nums):\n",
    "    algo_dict = {\n",
    "        1: selection_sort(nums)\n",
    "        ,2: insertion_sort1(nums)\n",
    "        ,3: insertion_sort2(nums)\n",
    "        ,4: bubble_sort1(nums)\n",
    "        ,5: bubble_sort2(nums)\n",
    "    }\n",
    "    \n",
    "    return algo_dict[algo_id]\n",
    "\n",
    "\n",
    "def test_sort(algo_id, nums):\n",
    "    \n",
    "#     print(\"Before:\", nums)\n",
    "    \n",
    "    time0 = time.time()\n",
    "    sorted_nums = run_algo(algo_id, nums)\n",
    "    \n",
    "#     print(\"After:\", sorted_nums)\n",
    "    print(\"Cost:\", time.time()-time0)\n",
    "    print(\"Sorted?\", is_sorted(sorted_nums))"
   ]
  },
  {
   "cell_type": "code",
   "execution_count": 10,
   "metadata": {},
   "outputs": [],
   "source": [
    "nums = generate_nums()"
   ]
  },
  {
   "cell_type": "code",
   "execution_count": 11,
   "metadata": {},
   "outputs": [
    {
     "name": "stdout",
     "output_type": "stream",
     "text": [
      "Cost: 3.768998861312866\n",
      "Sorted? True\n"
     ]
    }
   ],
   "source": [
    "test_sort(1, nums.copy())"
   ]
  },
  {
   "cell_type": "code",
   "execution_count": 12,
   "metadata": {},
   "outputs": [
    {
     "name": "stdout",
     "output_type": "stream",
     "text": [
      "Cost: 3.783782958984375\n",
      "Sorted? True\n"
     ]
    }
   ],
   "source": [
    "test_sort(2, nums.copy())"
   ]
  },
  {
   "cell_type": "code",
   "execution_count": 13,
   "metadata": {},
   "outputs": [
    {
     "name": "stdout",
     "output_type": "stream",
     "text": [
      "Cost: 3.7997050285339355\n",
      "Sorted? True\n"
     ]
    }
   ],
   "source": [
    "test_sort(3, nums.copy())"
   ]
  },
  {
   "cell_type": "code",
   "execution_count": 14,
   "metadata": {},
   "outputs": [
    {
     "name": "stdout",
     "output_type": "stream",
     "text": [
      "Cost: 3.8382070064544678\n",
      "Sorted? True\n"
     ]
    }
   ],
   "source": [
    "test_sort(4, nums.copy())"
   ]
  },
  {
   "cell_type": "code",
   "execution_count": 15,
   "metadata": {},
   "outputs": [
    {
     "name": "stdout",
     "output_type": "stream",
     "text": [
      "Cost: 3.956845998764038\n",
      "Sorted? True\n"
     ]
    }
   ],
   "source": [
    "test_sort(5, nums.copy())"
   ]
  },
  {
   "cell_type": "code",
   "execution_count": null,
   "metadata": {},
   "outputs": [],
   "source": []
  }
 ],
 "metadata": {
  "kernelspec": {
   "display_name": "Python 3",
   "language": "python",
   "name": "python3"
  },
  "language_info": {
   "codemirror_mode": {
    "name": "ipython",
    "version": 3
   },
   "file_extension": ".py",
   "mimetype": "text/x-python",
   "name": "python",
   "nbconvert_exporter": "python",
   "pygments_lexer": "ipython3",
   "version": "3.7.3"
  }
 },
 "nbformat": 4,
 "nbformat_minor": 4
}
